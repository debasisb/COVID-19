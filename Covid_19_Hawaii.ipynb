{
  "nbformat": 4,
  "nbformat_minor": 0,
  "metadata": {
    "colab": {
      "name": "Covid-19-Hawaii.ipynb",
      "provenance": [],
      "authorship_tag": "ABX9TyNjPlBabQtKV0HosY1E/915",
      "include_colab_link": true
    },
    "kernelspec": {
      "name": "python3",
      "display_name": "Python 3"
    }
  },
  "cells": [
    {
      "cell_type": "markdown",
      "metadata": {
        "id": "view-in-github",
        "colab_type": "text"
      },
      "source": [
        "<a href=\"https://colab.research.google.com/github/debasisb/COVID-19/blob/master/Covid_19_Hawaii.ipynb\" target=\"_parent\"><img src=\"https://colab.research.google.com/assets/colab-badge.svg\" alt=\"Open In Colab\"/></a>"
      ]
    },
    {
      "cell_type": "code",
      "metadata": {
        "id": "I0nWZE0mLDIb",
        "colab_type": "code",
        "outputId": "63836214-f7aa-4b28-9196-bb593f06abcb",
        "colab": {
          "base_uri": "https://localhost:8080/",
          "height": 204
        }
      },
      "source": [
        "import pandas as pd\n",
        "df = pd.read_csv(\"https://raw.githubusercontent.com/nytimes/covid-19-data/master/us-states.csv\")\n",
        "df.head()"
      ],
      "execution_count": 68,
      "outputs": [
        {
          "output_type": "execute_result",
          "data": {
            "text/html": [
              "<div>\n",
              "<style scoped>\n",
              "    .dataframe tbody tr th:only-of-type {\n",
              "        vertical-align: middle;\n",
              "    }\n",
              "\n",
              "    .dataframe tbody tr th {\n",
              "        vertical-align: top;\n",
              "    }\n",
              "\n",
              "    .dataframe thead th {\n",
              "        text-align: right;\n",
              "    }\n",
              "</style>\n",
              "<table border=\"1\" class=\"dataframe\">\n",
              "  <thead>\n",
              "    <tr style=\"text-align: right;\">\n",
              "      <th></th>\n",
              "      <th>date</th>\n",
              "      <th>state</th>\n",
              "      <th>fips</th>\n",
              "      <th>cases</th>\n",
              "      <th>deaths</th>\n",
              "    </tr>\n",
              "  </thead>\n",
              "  <tbody>\n",
              "    <tr>\n",
              "      <th>0</th>\n",
              "      <td>2020-01-21</td>\n",
              "      <td>Washington</td>\n",
              "      <td>53</td>\n",
              "      <td>1</td>\n",
              "      <td>0</td>\n",
              "    </tr>\n",
              "    <tr>\n",
              "      <th>1</th>\n",
              "      <td>2020-01-22</td>\n",
              "      <td>Washington</td>\n",
              "      <td>53</td>\n",
              "      <td>1</td>\n",
              "      <td>0</td>\n",
              "    </tr>\n",
              "    <tr>\n",
              "      <th>2</th>\n",
              "      <td>2020-01-23</td>\n",
              "      <td>Washington</td>\n",
              "      <td>53</td>\n",
              "      <td>1</td>\n",
              "      <td>0</td>\n",
              "    </tr>\n",
              "    <tr>\n",
              "      <th>3</th>\n",
              "      <td>2020-01-24</td>\n",
              "      <td>Illinois</td>\n",
              "      <td>17</td>\n",
              "      <td>1</td>\n",
              "      <td>0</td>\n",
              "    </tr>\n",
              "    <tr>\n",
              "      <th>4</th>\n",
              "      <td>2020-01-24</td>\n",
              "      <td>Washington</td>\n",
              "      <td>53</td>\n",
              "      <td>1</td>\n",
              "      <td>0</td>\n",
              "    </tr>\n",
              "  </tbody>\n",
              "</table>\n",
              "</div>"
            ],
            "text/plain": [
              "         date       state  fips  cases  deaths\n",
              "0  2020-01-21  Washington    53      1       0\n",
              "1  2020-01-22  Washington    53      1       0\n",
              "2  2020-01-23  Washington    53      1       0\n",
              "3  2020-01-24    Illinois    17      1       0\n",
              "4  2020-01-24  Washington    53      1       0"
            ]
          },
          "metadata": {
            "tags": []
          },
          "execution_count": 68
        }
      ]
    },
    {
      "cell_type": "code",
      "metadata": {
        "id": "PU1XbMQNLUCm",
        "colab_type": "code",
        "outputId": "0c4c8935-cbc5-4b99-ce6a-d4fe0783ee73",
        "colab": {
          "base_uri": "https://localhost:8080/",
          "height": 34
        }
      },
      "source": [
        "df.columns"
      ],
      "execution_count": 69,
      "outputs": [
        {
          "output_type": "execute_result",
          "data": {
            "text/plain": [
              "Index(['date', 'state', 'fips', 'cases', 'deaths'], dtype='object')"
            ]
          },
          "metadata": {
            "tags": []
          },
          "execution_count": 69
        }
      ]
    },
    {
      "cell_type": "code",
      "metadata": {
        "id": "0Ya4GMUfLXvW",
        "colab_type": "code",
        "outputId": "b8d21656-3269-4538-cb72-7a3c8d0c0062",
        "colab": {
          "base_uri": "https://localhost:8080/",
          "height": 296
        }
      },
      "source": [
        "import seaborn as sns\n",
        "sns.scatterplot(x=\"cases\", y=\"deaths\", \n",
        "                hue=\"deaths\",size=\"deaths\", data=df)"
      ],
      "execution_count": 70,
      "outputs": [
        {
          "output_type": "execute_result",
          "data": {
            "text/plain": [
              "<matplotlib.axes._subplots.AxesSubplot at 0x7f9b9f382320>"
            ]
          },
          "metadata": {
            "tags": []
          },
          "execution_count": 70
        },
        {
          "output_type": "display_data",
          "data": {
            "image/png": "[encoded data removed]",
            "text/plain": [
              "<Figure size 432x288 with 1 Axes>"
            ]
          },
          "metadata": {
            "tags": [],
            "needs_background": "light"
          }
        }
      ]
    },
    {
      "cell_type": "code",
      "metadata": {
        "id": "nAp3c0o3M2B9",
        "colab_type": "code",
        "outputId": "e908c8b3-576a-4832-98df-6813889a268a",
        "colab": {
          "base_uri": "https://localhost:8080/",
          "height": 170
        }
      },
      "source": [
        "df = pd.read_csv(\"https://raw.githubusercontent.com/nytimes/covid-19-data/master/us-states.csv\")\n",
        "df[\"date\"] = pd.to_datetime(df[\"date\"])\n",
        "df = df.set_index(\"date\")\n",
        "print(f\"Columns: {df.columns}\")\n",
        "df.index"
      ],
      "execution_count": 71,
      "outputs": [
        {
          "output_type": "stream",
          "text": [
            "Columns: Index(['state', 'fips', 'cases', 'deaths'], dtype='object')\n"
          ],
          "name": "stdout"
        },
        {
          "output_type": "execute_result",
          "data": {
            "text/plain": [
              "DatetimeIndex(['2020-01-21', '2020-01-22', '2020-01-23', '2020-01-24',\n",
              "               '2020-01-24', '2020-01-25', '2020-01-25', '2020-01-25',\n",
              "               '2020-01-26', '2020-01-26',\n",
              "               ...\n",
              "               '2020-04-09', '2020-04-09', '2020-04-09', '2020-04-09',\n",
              "               '2020-04-09', '2020-04-09', '2020-04-09', '2020-04-09',\n",
              "               '2020-04-09', '2020-04-09'],\n",
              "              dtype='datetime64[ns]', name='date', length=2105, freq=None)"
            ]
          },
          "metadata": {
            "tags": []
          },
          "execution_count": 71
        }
      ]
    },
    {
      "cell_type": "code",
      "metadata": {
        "id": "1VwX1t6LNBYI",
        "colab_type": "code",
        "outputId": "830e4a41-3ee8-4077-f6fe-392caed5bfaf",
        "colab": {
          "base_uri": "https://localhost:8080/",
          "height": 51
        }
      },
      "source": [
        "from datetime import date, timedelta\n",
        "today = date.today()\n",
        "daybefore = today - timedelta(days = 2)\n",
        "print(f\"Today {today}\")\n",
        "print(f\"Two days ago {daybefore}\")"
      ],
      "execution_count": 72,
      "outputs": [
        {
          "output_type": "stream",
          "text": [
            "Today 2020-04-11\n",
            "Two days ago 2020-04-09\n"
          ],
          "name": "stdout"
        }
      ]
    },
    {
      "cell_type": "code",
      "metadata": {
        "id": "o7uEH2qKNfYQ",
        "colab_type": "code",
        "outputId": "6a5f2498-efae-4024-c084-26fadd5dbcba",
        "colab": {
          "base_uri": "https://localhost:8080/",
          "height": 235
        }
      },
      "source": [
        "df.loc[daybefore:today].head()"
      ],
      "execution_count": 73,
      "outputs": [
        {
          "output_type": "execute_result",
          "data": {
            "text/html": [
              "<div>\n",
              "<style scoped>\n",
              "    .dataframe tbody tr th:only-of-type {\n",
              "        vertical-align: middle;\n",
              "    }\n",
              "\n",
              "    .dataframe tbody tr th {\n",
              "        vertical-align: top;\n",
              "    }\n",
              "\n",
              "    .dataframe thead th {\n",
              "        text-align: right;\n",
              "    }\n",
              "</style>\n",
              "<table border=\"1\" class=\"dataframe\">\n",
              "  <thead>\n",
              "    <tr style=\"text-align: right;\">\n",
              "      <th></th>\n",
              "      <th>state</th>\n",
              "      <th>fips</th>\n",
              "      <th>cases</th>\n",
              "      <th>deaths</th>\n",
              "    </tr>\n",
              "    <tr>\n",
              "      <th>date</th>\n",
              "      <th></th>\n",
              "      <th></th>\n",
              "      <th></th>\n",
              "      <th></th>\n",
              "    </tr>\n",
              "  </thead>\n",
              "  <tbody>\n",
              "    <tr>\n",
              "      <th>2020-04-09</th>\n",
              "      <td>Alabama</td>\n",
              "      <td>1</td>\n",
              "      <td>2838</td>\n",
              "      <td>78</td>\n",
              "    </tr>\n",
              "    <tr>\n",
              "      <th>2020-04-09</th>\n",
              "      <td>Alaska</td>\n",
              "      <td>2</td>\n",
              "      <td>233</td>\n",
              "      <td>5</td>\n",
              "    </tr>\n",
              "    <tr>\n",
              "      <th>2020-04-09</th>\n",
              "      <td>American Samoa</td>\n",
              "      <td>60</td>\n",
              "      <td>0</td>\n",
              "      <td>0</td>\n",
              "    </tr>\n",
              "    <tr>\n",
              "      <th>2020-04-09</th>\n",
              "      <td>Arizona</td>\n",
              "      <td>4</td>\n",
              "      <td>3018</td>\n",
              "      <td>89</td>\n",
              "    </tr>\n",
              "    <tr>\n",
              "      <th>2020-04-09</th>\n",
              "      <td>Arkansas</td>\n",
              "      <td>5</td>\n",
              "      <td>1146</td>\n",
              "      <td>21</td>\n",
              "    </tr>\n",
              "  </tbody>\n",
              "</table>\n",
              "</div>"
            ],
            "text/plain": [
              "                     state  fips  cases  deaths\n",
              "date                                           \n",
              "2020-04-09         Alabama     1   2838      78\n",
              "2020-04-09          Alaska     2    233       5\n",
              "2020-04-09  American Samoa    60      0       0\n",
              "2020-04-09         Arizona     4   3018      89\n",
              "2020-04-09        Arkansas     5   1146      21"
            ]
          },
          "metadata": {
            "tags": []
          },
          "execution_count": 73
        }
      ]
    },
    {
      "cell_type": "code",
      "metadata": {
        "id": "kYwnJjVZNj7W",
        "colab_type": "code",
        "colab": {}
      },
      "source": [
        ""
      ],
      "execution_count": 0,
      "outputs": []
    },
    {
      "cell_type": "code",
      "metadata": {
        "id": "dJpmfYbKNj9R",
        "colab_type": "code",
        "outputId": "0cc4a7b9-1ecb-4f62-e704-a8ac6a96559e",
        "colab": {
          "base_uri": "https://localhost:8080/",
          "height": 282
        }
      },
      "source": [
        "sns.kdeplot(df.loc[daybefore:today][\"deaths\"], shade=True)"
      ],
      "execution_count": 74,
      "outputs": [
        {
          "output_type": "execute_result",
          "data": {
            "text/plain": [
              "<matplotlib.axes._subplots.AxesSubplot at 0x7f9b9f546080>"
            ]
          },
          "metadata": {
            "tags": []
          },
          "execution_count": 74
        },
        {
          "output_type": "display_data",
          "data": {
            "image/png": "[encoded data removed]",
            "text/plain": [
              "<Figure size 432x288 with 1 Axes>"
            ]
          },
          "metadata": {
            "tags": [],
            "needs_background": "light"
          }
        }
      ]
    },
    {
      "cell_type": "code",
      "metadata": {
        "id": "UaD93U-mNoea",
        "colab_type": "code",
        "outputId": "acdb26ed-9d66-4647-e9b0-54c3e0f7410b",
        "colab": {
          "base_uri": "https://localhost:8080/",
          "height": 390
        }
      },
      "source": [
        "current_df = df.loc[daybefore:today].sort_values(by=[\"deaths\", \"cases\"], ascending=False)\n",
        "current_df.head(10)"
      ],
      "execution_count": 75,
      "outputs": [
        {
          "output_type": "execute_result",
          "data": {
            "text/html": [
              "<div>\n",
              "<style scoped>\n",
              "    .dataframe tbody tr th:only-of-type {\n",
              "        vertical-align: middle;\n",
              "    }\n",
              "\n",
              "    .dataframe tbody tr th {\n",
              "        vertical-align: top;\n",
              "    }\n",
              "\n",
              "    .dataframe thead th {\n",
              "        text-align: right;\n",
              "    }\n",
              "</style>\n",
              "<table border=\"1\" class=\"dataframe\">\n",
              "  <thead>\n",
              "    <tr style=\"text-align: right;\">\n",
              "      <th></th>\n",
              "      <th>state</th>\n",
              "      <th>fips</th>\n",
              "      <th>cases</th>\n",
              "      <th>deaths</th>\n",
              "    </tr>\n",
              "    <tr>\n",
              "      <th>date</th>\n",
              "      <th></th>\n",
              "      <th></th>\n",
              "      <th></th>\n",
              "      <th></th>\n",
              "    </tr>\n",
              "  </thead>\n",
              "  <tbody>\n",
              "    <tr>\n",
              "      <th>2020-04-09</th>\n",
              "      <td>New York</td>\n",
              "      <td>36</td>\n",
              "      <td>159937</td>\n",
              "      <td>7067</td>\n",
              "    </tr>\n",
              "    <tr>\n",
              "      <th>2020-04-09</th>\n",
              "      <td>New Jersey</td>\n",
              "      <td>34</td>\n",
              "      <td>51027</td>\n",
              "      <td>1700</td>\n",
              "    </tr>\n",
              "    <tr>\n",
              "      <th>2020-04-09</th>\n",
              "      <td>Michigan</td>\n",
              "      <td>26</td>\n",
              "      <td>21375</td>\n",
              "      <td>1076</td>\n",
              "    </tr>\n",
              "    <tr>\n",
              "      <th>2020-04-09</th>\n",
              "      <td>Louisiana</td>\n",
              "      <td>22</td>\n",
              "      <td>18283</td>\n",
              "      <td>702</td>\n",
              "    </tr>\n",
              "    <tr>\n",
              "      <th>2020-04-09</th>\n",
              "      <td>California</td>\n",
              "      <td>6</td>\n",
              "      <td>20191</td>\n",
              "      <td>548</td>\n",
              "    </tr>\n",
              "    <tr>\n",
              "      <th>2020-04-09</th>\n",
              "      <td>Illinois</td>\n",
              "      <td>17</td>\n",
              "      <td>16422</td>\n",
              "      <td>534</td>\n",
              "    </tr>\n",
              "    <tr>\n",
              "      <th>2020-04-09</th>\n",
              "      <td>Massachusetts</td>\n",
              "      <td>25</td>\n",
              "      <td>18941</td>\n",
              "      <td>503</td>\n",
              "    </tr>\n",
              "    <tr>\n",
              "      <th>2020-04-09</th>\n",
              "      <td>Washington</td>\n",
              "      <td>53</td>\n",
              "      <td>9608</td>\n",
              "      <td>456</td>\n",
              "    </tr>\n",
              "    <tr>\n",
              "      <th>2020-04-09</th>\n",
              "      <td>Georgia</td>\n",
              "      <td>13</td>\n",
              "      <td>10885</td>\n",
              "      <td>412</td>\n",
              "    </tr>\n",
              "    <tr>\n",
              "      <th>2020-04-09</th>\n",
              "      <td>Connecticut</td>\n",
              "      <td>9</td>\n",
              "      <td>9784</td>\n",
              "      <td>380</td>\n",
              "    </tr>\n",
              "  </tbody>\n",
              "</table>\n",
              "</div>"
            ],
            "text/plain": [
              "                    state  fips   cases  deaths\n",
              "date                                           \n",
              "2020-04-09       New York    36  159937    7067\n",
              "2020-04-09     New Jersey    34   51027    1700\n",
              "2020-04-09       Michigan    26   21375    1076\n",
              "2020-04-09      Louisiana    22   18283     702\n",
              "2020-04-09     California     6   20191     548\n",
              "2020-04-09       Illinois    17   16422     534\n",
              "2020-04-09  Massachusetts    25   18941     503\n",
              "2020-04-09     Washington    53    9608     456\n",
              "2020-04-09        Georgia    13   10885     412\n",
              "2020-04-09    Connecticut     9    9784     380"
            ]
          },
          "metadata": {
            "tags": []
          },
          "execution_count": 75
        }
      ]
    },
    {
      "cell_type": "code",
      "metadata": {
        "id": "I5y2_dYvNzTw",
        "colab_type": "code",
        "colab": {}
      },
      "source": [
        ""
      ],
      "execution_count": 0,
      "outputs": []
    },
    {
      "cell_type": "code",
      "metadata": {
        "id": "iSgm6078NzVo",
        "colab_type": "code",
        "outputId": "fbfa9c49-a6c4-480c-f8e2-ec33e37ccd4f",
        "colab": {
          "base_uri": "https://localhost:8080/",
          "height": 34
        }
      },
      "source": [
        "current_df.shape"
      ],
      "execution_count": 76,
      "outputs": [
        {
          "output_type": "execute_result",
          "data": {
            "text/plain": [
              "(56, 4)"
            ]
          },
          "metadata": {
            "tags": []
          },
          "execution_count": 76
        }
      ]
    },
    {
      "cell_type": "code",
      "metadata": {
        "id": "tLmWg3qZOuZ2",
        "colab_type": "code",
        "outputId": "47708479-bdb5-4d9d-b7bb-5358f8c36e64",
        "colab": {
          "base_uri": "https://localhost:8080/",
          "height": 187
        }
      },
      "source": [
        "top_ten_states = list(current_df[\"state\"].head(10).values)\n",
        "top_ten_states"
      ],
      "execution_count": 77,
      "outputs": [
        {
          "output_type": "execute_result",
          "data": {
            "text/plain": [
              "['New York',\n",
              " 'New Jersey',\n",
              " 'Michigan',\n",
              " 'Louisiana',\n",
              " 'California',\n",
              " 'Illinois',\n",
              " 'Massachusetts',\n",
              " 'Washington',\n",
              " 'Georgia',\n",
              " 'Connecticut']"
            ]
          },
          "metadata": {
            "tags": []
          },
          "execution_count": 77
        }
      ]
    },
    {
      "cell_type": "code",
      "metadata": {
        "id": "DOFsflOvPD_e",
        "colab_type": "code",
        "colab": {}
      },
      "source": [
        "top_states_df = df[df['state'].isin(top_ten_states)].drop(columns=\"fips\")"
      ],
      "execution_count": 0,
      "outputs": []
    },
    {
      "cell_type": "code",
      "metadata": {
        "id": "gsib2Rocpdcn",
        "colab_type": "code",
        "colab": {}
      },
      "source": [
        ""
      ],
      "execution_count": 0,
      "outputs": []
    },
    {
      "cell_type": "code",
      "metadata": {
        "id": "4gmoRMAMPNn8",
        "colab_type": "code",
        "outputId": "27a9a419-83a6-42b6-cd8a-ba0a0f150a4c",
        "colab": {
          "base_uri": "https://localhost:8080/",
          "height": 187
        }
      },
      "source": [
        "set(top_states_df.state.values)"
      ],
      "execution_count": 0,
      "outputs": [
        {
          "output_type": "execute_result",
          "data": {
            "text/plain": [
              "{'California',\n",
              " 'Connecticut',\n",
              " 'Georgia',\n",
              " 'Illinois',\n",
              " 'Louisiana',\n",
              " 'Massachusetts',\n",
              " 'Michigan',\n",
              " 'New Jersey',\n",
              " 'New York',\n",
              " 'Washington'}"
            ]
          },
          "metadata": {
            "tags": []
          },
          "execution_count": 29
        }
      ]
    },
    {
      "cell_type": "code",
      "metadata": {
        "id": "xvAA_Q6lPVr7",
        "colab_type": "code",
        "outputId": "0a882ae1-28ab-4c8c-d184-bf97e4e22fbd",
        "colab": {
          "base_uri": "https://localhost:8080/",
          "height": 530
        }
      },
      "source": [
        "import seaborn as sns\n",
        "import matplotlib.pyplot as plt\n",
        "\n",
        "plt.figure(figsize=(15,5))\n",
        "ax = sns.lmplot(x=\"cases\", y=\"deaths\",\n",
        "                    height=3.5,\n",
        "                    col=\"state\",\n",
        "                    col_wrap=5,\n",
        "                    hue=\"state\", \n",
        "                    palette=\"Set2\",\n",
        "                    data=top_states_df)\n",
        "ax.fig.subplots_adjust(wspace=.2)"
      ],
      "execution_count": 79,
      "outputs": [
        {
          "output_type": "display_data",
          "data": {
            "text/plain": [
              "<Figure size 1080x360 with 0 Axes>"
            ]
          },
          "metadata": {
            "tags": []
          }
        },
        {
          "output_type": "display_data",
          "data": {
            "image/png": "[encoded data removed]",
            "text/plain": [
              "<Figure size 1260x504 with 10 Axes>"
            ]
          },
          "metadata": {
            "tags": [],
            "needs_background": "light"
          }
        }
      ]
    },
    {
      "cell_type": "code",
      "metadata": {
        "id": "Lvoh2DDoQTwl",
        "colab_type": "code",
        "outputId": "4e090a0d-f756-4dc4-b898-ee7b2a59de86",
        "colab": {
          "base_uri": "https://localhost:8080/",
          "height": 235
        }
      },
      "source": [
        "top_states_april_current_df = top_states_df.loc[\"2020-04-08\":today].sort_values(by=[\"deaths\", \"cases\"], ascending=False)\n",
        "top_states_april_current_df.head()"
      ],
      "execution_count": 80,
      "outputs": [
        {
          "output_type": "execute_result",
          "data": {
            "text/html": [
              "<div>\n",
              "<style scoped>\n",
              "    .dataframe tbody tr th:only-of-type {\n",
              "        vertical-align: middle;\n",
              "    }\n",
              "\n",
              "    .dataframe tbody tr th {\n",
              "        vertical-align: top;\n",
              "    }\n",
              "\n",
              "    .dataframe thead th {\n",
              "        text-align: right;\n",
              "    }\n",
              "</style>\n",
              "<table border=\"1\" class=\"dataframe\">\n",
              "  <thead>\n",
              "    <tr style=\"text-align: right;\">\n",
              "      <th></th>\n",
              "      <th>state</th>\n",
              "      <th>cases</th>\n",
              "      <th>deaths</th>\n",
              "    </tr>\n",
              "    <tr>\n",
              "      <th>date</th>\n",
              "      <th></th>\n",
              "      <th></th>\n",
              "      <th></th>\n",
              "    </tr>\n",
              "  </thead>\n",
              "  <tbody>\n",
              "    <tr>\n",
              "      <th>2020-04-09</th>\n",
              "      <td>New York</td>\n",
              "      <td>159937</td>\n",
              "      <td>7067</td>\n",
              "    </tr>\n",
              "    <tr>\n",
              "      <th>2020-04-08</th>\n",
              "      <td>New York</td>\n",
              "      <td>149401</td>\n",
              "      <td>6268</td>\n",
              "    </tr>\n",
              "    <tr>\n",
              "      <th>2020-04-09</th>\n",
              "      <td>New Jersey</td>\n",
              "      <td>51027</td>\n",
              "      <td>1700</td>\n",
              "    </tr>\n",
              "    <tr>\n",
              "      <th>2020-04-08</th>\n",
              "      <td>New Jersey</td>\n",
              "      <td>47437</td>\n",
              "      <td>1504</td>\n",
              "    </tr>\n",
              "    <tr>\n",
              "      <th>2020-04-09</th>\n",
              "      <td>Michigan</td>\n",
              "      <td>21375</td>\n",
              "      <td>1076</td>\n",
              "    </tr>\n",
              "  </tbody>\n",
              "</table>\n",
              "</div>"
            ],
            "text/plain": [
              "                 state   cases  deaths\n",
              "date                                  \n",
              "2020-04-09    New York  159937    7067\n",
              "2020-04-08    New York  149401    6268\n",
              "2020-04-09  New Jersey   51027    1700\n",
              "2020-04-08  New Jersey   47437    1504\n",
              "2020-04-09    Michigan   21375    1076"
            ]
          },
          "metadata": {
            "tags": []
          },
          "execution_count": 80
        }
      ]
    },
    {
      "cell_type": "code",
      "metadata": {
        "id": "E7xDXJQbQt19",
        "colab_type": "code",
        "outputId": "770eee78-abdf-4cc5-e983-bfbe35621a8e",
        "colab": {
          "base_uri": "https://localhost:8080/",
          "height": 542
        }
      },
      "source": [
        "import plotly.io as pio\n",
        "pio.renderers.default = 'colab'\n",
        "import plotly.express as px\n",
        "fig = px.scatter(top_states_april_current_df, x=top_states_april_current_df.index, y=\"cases\", size=\"deaths\", color=\"state\", facet_col=\"state\")\n",
        "fig.show()"
      ],
      "execution_count": 82,
      "outputs": [
        {
          "output_type": "display_data",
          "data": {
            "text/html": [
              "<html>\n",
              "<head><meta charset=\"utf-8\" /></head>\n",
              "<body>\n",
              "    <div>\n",
              "            <script src=\"https://cdnjs.cloudflare.com/ajax/libs/mathjax/2.7.5/MathJax.js?config=TeX-AMS-MML_SVG\"></script><script type=\"text/javascript\">if (window.MathJax) {MathJax.Hub.Config({SVG: {font: \"STIX-Web\"}});}</script>\n",
              "                <script type=\"text/javascript\">window.PlotlyConfig = {MathJaxConfig: 'local'};</script>\n",
              "        <script src=\"https://cdn.plot.ly/plotly-latest.min.js\"></script>    \n",
              "            <div id=\"86d3cb61-4772-4ca8-8427-ad321998e5fe\" class=\"plotly-graph-div\" style=\"height:525px; width:100%;\"></div>\n",
              "            <script type=\"text/javascript\">\n",
              "                \n",
              "                    window.PLOTLYENV=window.PLOTLYENV || {};\n",
              "                    \n",
              "                if (document.getElementById(\"86d3cb61-4772-4ca8-8427-ad321998e5fe\")) {\n",
              "                    Plotly.newPlot(\n",
              "                        '86d3cb61-4772-4ca8-8427-ad321998e5fe',\n",
              "                        [{\"hoverlabel\": {\"namelength\": 0}, \"hovertemplate\": \"state=New York<br>x=%{x}<br>cases=%{y}<br>deaths=%{marker.size}\", \"legendgroup\": \"state=New York\", \"marker\": {\"color\": \"#636efa\", \"size\": [7067, 6268], \"sizemode\": \"area\", \"sizeref\": 17.6675, \"symbol\": \"circle\"}, \"mode\": \"markers\", \"name\": \"state=New York\", \"showlegend\": true, \"type\": \"scatter\", \"x\": [\"2020-04-09T00:00:00\", \"2020-04-08T00:00:00\"], \"xaxis\": \"x\", \"y\": [159937, 149401], \"yaxis\": \"y\"}, {\"hoverlabel\": {\"namelength\": 0}, \"hovertemplate\": \"state=New Jersey<br>x=%{x}<br>cases=%{y}<br>deaths=%{marker.size}\", \"legendgroup\": \"state=New Jersey\", \"marker\": {\"color\": \"#EF553B\", \"size\": [1700, 1504], \"sizemode\": \"area\", \"sizeref\": 17.6675, \"symbol\": \"circle\"}, \"mode\": \"markers\", \"name\": \"state=New Jersey\", \"showlegend\": true, \"type\": \"scatter\", \"x\": [\"2020-04-09T00:00:00\", \"2020-04-08T00:00:00\"], \"xaxis\": \"x2\", \"y\": [51027, 47437], \"yaxis\": \"y2\"}, {\"hoverlabel\": {\"namelength\": 0}, \"hovertemplate\": \"state=Michigan<br>x=%{x}<br>cases=%{y}<br>deaths=%{marker.size}\", \"legendgroup\": \"state=Michigan\", \"marker\": {\"color\": \"#00cc96\", \"size\": [1076, 959], \"sizemode\": \"area\", \"sizeref\": 17.6675, \"symbol\": \"circle\"}, \"mode\": \"markers\", \"name\": \"state=Michigan\", \"showlegend\": true, \"type\": \"scatter\", \"x\": [\"2020-04-09T00:00:00\", \"2020-04-08T00:00:00\"], \"xaxis\": \"x3\", \"y\": [21375, 20220], \"yaxis\": \"y3\"}, {\"hoverlabel\": {\"namelength\": 0}, \"hovertemplate\": \"state=Louisiana<br>x=%{x}<br>cases=%{y}<br>deaths=%{marker.size}\", \"legendgroup\": \"state=Louisiana\", \"marker\": {\"color\": \"#ab63fa\", \"size\": [702, 652], \"sizemode\": \"area\", \"sizeref\": 17.6675, \"symbol\": \"circle\"}, \"mode\": \"markers\", \"name\": \"state=Louisiana\", \"showlegend\": true, \"type\": \"scatter\", \"x\": [\"2020-04-09T00:00:00\", \"2020-04-08T00:00:00\"], \"xaxis\": \"x4\", \"y\": [18283, 17030], \"yaxis\": \"y4\"}, {\"hoverlabel\": {\"namelength\": 0}, \"hovertemplate\": \"state=California<br>x=%{x}<br>cases=%{y}<br>deaths=%{marker.size}\", \"legendgroup\": \"state=California\", \"marker\": {\"color\": \"#FFA15A\", \"size\": [548, 506], \"sizemode\": \"area\", \"sizeref\": 17.6675, \"symbol\": \"circle\"}, \"mode\": \"markers\", \"name\": \"state=California\", \"showlegend\": true, \"type\": \"scatter\", \"x\": [\"2020-04-09T00:00:00\", \"2020-04-08T00:00:00\"], \"xaxis\": \"x5\", \"y\": [20191, 19043], \"yaxis\": \"y5\"}, {\"hoverlabel\": {\"namelength\": 0}, \"hovertemplate\": \"state=Illinois<br>x=%{x}<br>cases=%{y}<br>deaths=%{marker.size}\", \"legendgroup\": \"state=Illinois\", \"marker\": {\"color\": \"#19d3f3\", \"size\": [534, 464], \"sizemode\": \"area\", \"sizeref\": 17.6675, \"symbol\": \"circle\"}, \"mode\": \"markers\", \"name\": \"state=Illinois\", \"showlegend\": true, \"type\": \"scatter\", \"x\": [\"2020-04-09T00:00:00\", \"2020-04-08T00:00:00\"], \"xaxis\": \"x6\", \"y\": [16422, 15078], \"yaxis\": \"y6\"}, {\"hoverlabel\": {\"namelength\": 0}, \"hovertemplate\": \"state=Massachusetts<br>x=%{x}<br>cases=%{y}<br>deaths=%{marker.size}\", \"legendgroup\": \"state=Massachusetts\", \"marker\": {\"color\": \"#FF6692\", \"size\": [503, 433], \"sizemode\": \"area\", \"sizeref\": 17.6675, \"symbol\": \"circle\"}, \"mode\": \"markers\", \"name\": \"state=Massachusetts\", \"showlegend\": true, \"type\": \"scatter\", \"x\": [\"2020-04-09T00:00:00\", \"2020-04-08T00:00:00\"], \"xaxis\": \"x7\", \"y\": [18941, 16790], \"yaxis\": \"y7\"}, {\"hoverlabel\": {\"namelength\": 0}, \"hovertemplate\": \"state=Washington<br>x=%{x}<br>cases=%{y}<br>deaths=%{marker.size}\", \"legendgroup\": \"state=Washington\", \"marker\": {\"color\": \"#B6E880\", \"size\": [456, 430], \"sizemode\": \"area\", \"sizeref\": 17.6675, \"symbol\": \"circle\"}, \"mode\": \"markers\", \"name\": \"state=Washington\", \"showlegend\": true, \"type\": \"scatter\", \"x\": [\"2020-04-09T00:00:00\", \"2020-04-08T00:00:00\"], \"xaxis\": \"x8\", \"y\": [9608, 9097], \"yaxis\": \"y8\"}, {\"hoverlabel\": {\"namelength\": 0}, \"hovertemplate\": \"state=Georgia<br>x=%{x}<br>cases=%{y}<br>deaths=%{marker.size}\", \"legendgroup\": \"state=Georgia\", \"marker\": {\"color\": \"#FF97FF\", \"size\": [412, 370], \"sizemode\": \"area\", \"sizeref\": 17.6675, \"symbol\": \"circle\"}, \"mode\": \"markers\", \"name\": \"state=Georgia\", \"showlegend\": true, \"type\": \"scatter\", \"x\": [\"2020-04-09T00:00:00\", \"2020-04-08T00:00:00\"], \"xaxis\": \"x9\", \"y\": [10885, 10204], \"yaxis\": \"y9\"}, {\"hoverlabel\": {\"namelength\": 0}, \"hovertemplate\": \"state=Connecticut<br>x=%{x}<br>cases=%{y}<br>deaths=%{marker.size}\", \"legendgroup\": \"state=Connecticut\", \"marker\": {\"color\": \"#FECB52\", \"size\": [380, 335], \"sizemode\": \"area\", \"sizeref\": 17.6675, \"symbol\": \"circle\"}, \"mode\": \"markers\", \"name\": \"state=Connecticut\", \"showlegend\": true, \"type\": \"scatter\", \"x\": [\"2020-04-09T00:00:00\", \"2020-04-08T00:00:00\"], \"xaxis\": \"x10\", \"y\": [9784, 8781], \"yaxis\": \"y10\"}],\n",
              "                        {\"annotations\": [{\"font\": {}, \"showarrow\": false, \"text\": \"state=New York\", \"x\": 0.04100000000000001, \"xanchor\": \"center\", \"xref\": \"paper\", \"y\": 1.0, \"yanchor\": \"bottom\", \"yref\": \"paper\"}, {\"font\": {}, \"showarrow\": false, \"text\": \"state=New Jersey\", \"x\": 0.14300000000000004, \"xanchor\": \"center\", \"xref\": \"paper\", \"y\": 1.0, \"yanchor\": \"bottom\", \"yref\": \"paper\"}, {\"font\": {}, \"showarrow\": false, \"text\": \"state=Michigan\", \"x\": 0.24500000000000005, \"xanchor\": \"center\", \"xref\": \"paper\", \"y\": 1.0, \"yanchor\": \"bottom\", \"yref\": \"paper\"}, {\"font\": {}, \"showarrow\": false, \"text\": \"state=Louisiana\", \"x\": 0.3470000000000001, \"xanchor\": \"center\", \"xref\": \"paper\", \"y\": 1.0, \"yanchor\": \"bottom\", \"yref\": \"paper\"}, {\"font\": {}, \"showarrow\": false, \"text\": \"state=California\", \"x\": 0.44900000000000007, \"xanchor\": \"center\", \"xref\": \"paper\", \"y\": 1.0, \"yanchor\": \"bottom\", \"yref\": \"paper\"}, {\"font\": {}, \"showarrow\": false, \"text\": \"state=Illinois\", \"x\": 0.5510000000000002, \"xanchor\": \"center\", \"xref\": \"paper\", \"y\": 1.0, \"yanchor\": \"bottom\", \"yref\": \"paper\"}, {\"font\": {}, \"showarrow\": false, \"text\": \"state=Massachusetts\", \"x\": 0.6530000000000001, \"xanchor\": \"center\", \"xref\": \"paper\", \"y\": 1.0, \"yanchor\": \"bottom\", \"yref\": \"paper\"}, {\"font\": {}, \"showarrow\": false, \"text\": \"state=Washington\", \"x\": 0.7550000000000001, \"xanchor\": \"center\", \"xref\": \"paper\", \"y\": 1.0, \"yanchor\": \"bottom\", \"yref\": \"paper\"}, {\"font\": {}, \"showarrow\": false, \"text\": \"state=Georgia\", \"x\": 0.8570000000000002, \"xanchor\": \"center\", \"xref\": \"paper\", \"y\": 1.0, \"yanchor\": \"bottom\", \"yref\": \"paper\"}, {\"font\": {}, \"showarrow\": false, \"text\": \"state=Connecticut\", \"x\": 0.9590000000000002, \"xanchor\": \"center\", \"xref\": \"paper\", \"y\": 1.0, \"yanchor\": \"bottom\", \"yref\": \"paper\"}], \"legend\": {\"itemsizing\": \"constant\", \"tracegroupgap\": 0}, \"margin\": {\"t\": 60}, \"template\": {\"data\": {\"bar\": [{\"error_x\": {\"color\": \"#2a3f5f\"}, \"error_y\": {\"color\": \"#2a3f5f\"}, \"marker\": {\"line\": {\"color\": \"#E5ECF6\", \"width\": 0.5}}, \"type\": \"bar\"}], \"barpolar\": [{\"marker\": {\"line\": {\"color\": \"#E5ECF6\", \"width\": 0.5}}, \"type\": \"barpolar\"}], \"carpet\": [{\"aaxis\": {\"endlinecolor\": \"#2a3f5f\", \"gridcolor\": \"white\", \"linecolor\": \"white\", \"minorgridcolor\": \"white\", \"startlinecolor\": \"#2a3f5f\"}, \"baxis\": {\"endlinecolor\": \"#2a3f5f\", \"gridcolor\": \"white\", \"linecolor\": \"white\", \"minorgridcolor\": \"white\", \"startlinecolor\": \"#2a3f5f\"}, \"type\": \"carpet\"}], \"choropleth\": [{\"colorbar\": {\"outlinewidth\": 0, \"ticks\": \"\"}, \"type\": \"choropleth\"}], \"contour\": [{\"colorbar\": {\"outlinewidth\": 0, \"ticks\": \"\"}, \"colorscale\": [[0.0, \"#0d0887\"], [0.1111111111111111, \"#46039f\"], [0.2222222222222222, \"#7201a8\"], [0.3333333333333333, \"#9c179e\"], [0.4444444444444444, \"#bd3786\"], [0.5555555555555556, \"#d8576b\"], [0.6666666666666666, \"#ed7953\"], [0.7777777777777778, \"#fb9f3a\"], [0.8888888888888888, \"#fdca26\"], [1.0, \"#f0f921\"]], \"type\": \"contour\"}], \"contourcarpet\": [{\"colorbar\": {\"outlinewidth\": 0, \"ticks\": \"\"}, \"type\": \"contourcarpet\"}], \"heatmap\": [{\"colorbar\": {\"outlinewidth\": 0, \"ticks\": \"\"}, \"colorscale\": [[0.0, \"#0d0887\"], [0.1111111111111111, \"#46039f\"], [0.2222222222222222, \"#7201a8\"], [0.3333333333333333, \"#9c179e\"], [0.4444444444444444, \"#bd3786\"], [0.5555555555555556, \"#d8576b\"], [0.6666666666666666, \"#ed7953\"], [0.7777777777777778, \"#fb9f3a\"], [0.8888888888888888, \"#fdca26\"], [1.0, \"#f0f921\"]], \"type\": \"heatmap\"}], \"heatmapgl\": [{\"colorbar\": {\"outlinewidth\": 0, \"ticks\": \"\"}, \"colorscale\": [[0.0, \"#0d0887\"], [0.1111111111111111, \"#46039f\"], [0.2222222222222222, \"#7201a8\"], [0.3333333333333333, \"#9c179e\"], [0.4444444444444444, \"#bd3786\"], [0.5555555555555556, \"#d8576b\"], [0.6666666666666666, \"#ed7953\"], [0.7777777777777778, \"#fb9f3a\"], [0.8888888888888888, \"#fdca26\"], [1.0, \"#f0f921\"]], \"type\": \"heatmapgl\"}], \"histogram\": [{\"marker\": {\"colorbar\": {\"outlinewidth\": 0, \"ticks\": \"\"}}, \"type\": \"histogram\"}], \"histogram2d\": [{\"colorbar\": {\"outlinewidth\": 0, \"ticks\": \"\"}, \"colorscale\": [[0.0, \"#0d0887\"], [0.1111111111111111, \"#46039f\"], [0.2222222222222222, \"#7201a8\"], [0.3333333333333333, \"#9c179e\"], [0.4444444444444444, \"#bd3786\"], [0.5555555555555556, \"#d8576b\"], [0.6666666666666666, \"#ed7953\"], [0.7777777777777778, \"#fb9f3a\"], [0.8888888888888888, \"#fdca26\"], [1.0, \"#f0f921\"]], \"type\": \"histogram2d\"}], \"histogram2dcontour\": [{\"colorbar\": {\"outlinewidth\": 0, \"ticks\": \"\"}, \"colorscale\": [[0.0, \"#0d0887\"], [0.1111111111111111, \"#46039f\"], [0.2222222222222222, \"#7201a8\"], [0.3333333333333333, \"#9c179e\"], [0.4444444444444444, \"#bd3786\"], [0.5555555555555556, \"#d8576b\"], [0.6666666666666666, \"#ed7953\"], [0.7777777777777778, \"#fb9f3a\"], [0.8888888888888888, \"#fdca26\"], [1.0, \"#f0f921\"]], \"type\": \"histogram2dcontour\"}], \"mesh3d\": [{\"colorbar\": {\"outlinewidth\": 0, \"ticks\": \"\"}, \"type\": \"mesh3d\"}], \"parcoords\": [{\"line\": {\"colorbar\": {\"outlinewidth\": 0, \"ticks\": \"\"}}, \"type\": \"parcoords\"}], \"pie\": [{\"automargin\": true, \"type\": \"pie\"}], \"scatter\": [{\"marker\": {\"colorbar\": {\"outlinewidth\": 0, \"ticks\": \"\"}}, \"type\": \"scatter\"}], \"scatter3d\": [{\"line\": {\"colorbar\": {\"outlinewidth\": 0, \"ticks\": \"\"}}, \"marker\": {\"colorbar\": {\"outlinewidth\": 0, \"ticks\": \"\"}}, \"type\": \"scatter3d\"}], \"scattercarpet\": [{\"marker\": {\"colorbar\": {\"outlinewidth\": 0, \"ticks\": \"\"}}, \"type\": \"scattercarpet\"}], \"scattergeo\": [{\"marker\": {\"colorbar\": {\"outlinewidth\": 0, \"ticks\": \"\"}}, \"type\": \"scattergeo\"}], \"scattergl\": [{\"marker\": {\"colorbar\": {\"outlinewidth\": 0, \"ticks\": \"\"}}, \"type\": \"scattergl\"}], \"scattermapbox\": [{\"marker\": {\"colorbar\": {\"outlinewidth\": 0, \"ticks\": \"\"}}, \"type\": \"scattermapbox\"}], \"scatterpolar\": [{\"marker\": {\"colorbar\": {\"outlinewidth\": 0, \"ticks\": \"\"}}, \"type\": \"scatterpolar\"}], \"scatterpolargl\": [{\"marker\": {\"colorbar\": {\"outlinewidth\": 0, \"ticks\": \"\"}}, \"type\": \"scatterpolargl\"}], \"scatterternary\": [{\"marker\": {\"colorbar\": {\"outlinewidth\": 0, \"ticks\": \"\"}}, \"type\": \"scatterternary\"}], \"surface\": [{\"colorbar\": {\"outlinewidth\": 0, \"ticks\": \"\"}, \"colorscale\": [[0.0, \"#0d0887\"], [0.1111111111111111, \"#46039f\"], [0.2222222222222222, \"#7201a8\"], [0.3333333333333333, \"#9c179e\"], [0.4444444444444444, \"#bd3786\"], [0.5555555555555556, \"#d8576b\"], [0.6666666666666666, \"#ed7953\"], [0.7777777777777778, \"#fb9f3a\"], [0.8888888888888888, \"#fdca26\"], [1.0, \"#f0f921\"]], \"type\": \"surface\"}], \"table\": [{\"cells\": {\"fill\": {\"color\": \"#EBF0F8\"}, \"line\": {\"color\": \"white\"}}, \"header\": {\"fill\": {\"color\": \"#C8D4E3\"}, \"line\": {\"color\": \"white\"}}, \"type\": \"table\"}]}, \"layout\": {\"annotationdefaults\": {\"arrowcolor\": \"#2a3f5f\", \"arrowhead\": 0, \"arrowwidth\": 1}, \"coloraxis\": {\"colorbar\": {\"outlinewidth\": 0, \"ticks\": \"\"}}, \"colorscale\": {\"diverging\": [[0, \"#8e0152\"], [0.1, \"#c51b7d\"], [0.2, \"#de77ae\"], [0.3, \"#f1b6da\"], [0.4, \"#fde0ef\"], [0.5, \"#f7f7f7\"], [0.6, \"#e6f5d0\"], [0.7, \"#b8e186\"], [0.8, \"#7fbc41\"], [0.9, \"#4d9221\"], [1, \"#276419\"]], \"sequential\": [[0.0, \"#0d0887\"], [0.1111111111111111, \"#46039f\"], [0.2222222222222222, \"#7201a8\"], [0.3333333333333333, \"#9c179e\"], [0.4444444444444444, \"#bd3786\"], [0.5555555555555556, \"#d8576b\"], [0.6666666666666666, \"#ed7953\"], [0.7777777777777778, \"#fb9f3a\"], [0.8888888888888888, \"#fdca26\"], [1.0, \"#f0f921\"]], \"sequentialminus\": [[0.0, \"#0d0887\"], [0.1111111111111111, \"#46039f\"], [0.2222222222222222, \"#7201a8\"], [0.3333333333333333, \"#9c179e\"], [0.4444444444444444, \"#bd3786\"], [0.5555555555555556, \"#d8576b\"], [0.6666666666666666, \"#ed7953\"], [0.7777777777777778, \"#fb9f3a\"], [0.8888888888888888, \"#fdca26\"], [1.0, \"#f0f921\"]]}, \"colorway\": [\"#636efa\", \"#EF553B\", \"#00cc96\", \"#ab63fa\", \"#FFA15A\", \"#19d3f3\", \"#FF6692\", \"#B6E880\", \"#FF97FF\", \"#FECB52\"], \"font\": {\"color\": \"#2a3f5f\"}, \"geo\": {\"bgcolor\": \"white\", \"lakecolor\": \"white\", \"landcolor\": \"#E5ECF6\", \"showlakes\": true, \"showland\": true, \"subunitcolor\": \"white\"}, \"hoverlabel\": {\"align\": \"left\"}, \"hovermode\": \"closest\", \"mapbox\": {\"style\": \"light\"}, \"paper_bgcolor\": \"white\", \"plot_bgcolor\": \"#E5ECF6\", \"polar\": {\"angularaxis\": {\"gridcolor\": \"white\", \"linecolor\": \"white\", \"ticks\": \"\"}, \"bgcolor\": \"#E5ECF6\", \"radialaxis\": {\"gridcolor\": \"white\", \"linecolor\": \"white\", \"ticks\": \"\"}}, \"scene\": {\"xaxis\": {\"backgroundcolor\": \"#E5ECF6\", \"gridcolor\": \"white\", \"gridwidth\": 2, \"linecolor\": \"white\", \"showbackground\": true, \"ticks\": \"\", \"zerolinecolor\": \"white\"}, \"yaxis\": {\"backgroundcolor\": \"#E5ECF6\", \"gridcolor\": \"white\", \"gridwidth\": 2, \"linecolor\": \"white\", \"showbackground\": true, \"ticks\": \"\", \"zerolinecolor\": \"white\"}, \"zaxis\": {\"backgroundcolor\": \"#E5ECF6\", \"gridcolor\": \"white\", \"gridwidth\": 2, \"linecolor\": \"white\", \"showbackground\": true, \"ticks\": \"\", \"zerolinecolor\": \"white\"}}, \"shapedefaults\": {\"line\": {\"color\": \"#2a3f5f\"}}, \"ternary\": {\"aaxis\": {\"gridcolor\": \"white\", \"linecolor\": \"white\", \"ticks\": \"\"}, \"baxis\": {\"gridcolor\": \"white\", \"linecolor\": \"white\", \"ticks\": \"\"}, \"bgcolor\": \"#E5ECF6\", \"caxis\": {\"gridcolor\": \"white\", \"linecolor\": \"white\", \"ticks\": \"\"}}, \"title\": {\"x\": 0.05}, \"xaxis\": {\"automargin\": true, \"gridcolor\": \"white\", \"linecolor\": \"white\", \"ticks\": \"\", \"title\": {\"standoff\": 15}, \"zerolinecolor\": \"white\", \"zerolinewidth\": 2}, \"yaxis\": {\"automargin\": true, \"gridcolor\": \"white\", \"linecolor\": \"white\", \"ticks\": \"\", \"title\": {\"standoff\": 15}, \"zerolinecolor\": \"white\", \"zerolinewidth\": 2}}}, \"xaxis\": {\"anchor\": \"y\", \"domain\": [0.0, 0.08200000000000002], \"title\": {\"text\": \"x\"}}, \"xaxis10\": {\"anchor\": \"y10\", \"domain\": [0.9180000000000001, 1.0], \"matches\": \"x\", \"title\": {\"text\": \"x\"}}, \"xaxis2\": {\"anchor\": \"y2\", \"domain\": [0.10200000000000002, 0.18400000000000005], \"matches\": \"x\", \"title\": {\"text\": \"x\"}}, \"xaxis3\": {\"anchor\": \"y3\", \"domain\": [0.20400000000000004, 0.28600000000000003], \"matches\": \"x\", \"title\": {\"text\": \"x\"}}, \"xaxis4\": {\"anchor\": \"y4\", \"domain\": [0.30600000000000005, 0.38800000000000007], \"matches\": \"x\", \"title\": {\"text\": \"x\"}}, \"xaxis5\": {\"anchor\": \"y5\", \"domain\": [0.4080000000000001, 0.4900000000000001], \"matches\": \"x\", \"title\": {\"text\": \"x\"}}, \"xaxis6\": {\"anchor\": \"y6\", \"domain\": [0.5100000000000001, 0.5920000000000001], \"matches\": \"x\", \"title\": {\"text\": \"x\"}}, \"xaxis7\": {\"anchor\": \"y7\", \"domain\": [0.6120000000000001, 0.6940000000000002], \"matches\": \"x\", \"title\": {\"text\": \"x\"}}, \"xaxis8\": {\"anchor\": \"y8\", \"domain\": [0.7140000000000001, 0.796], \"matches\": \"x\", \"title\": {\"text\": \"x\"}}, \"xaxis9\": {\"anchor\": \"y9\", \"domain\": [0.8160000000000002, 0.8980000000000001], \"matches\": \"x\", \"title\": {\"text\": \"x\"}}, \"yaxis\": {\"anchor\": \"x\", \"domain\": [0.0, 1.0], \"title\": {\"text\": \"cases\"}}, \"yaxis10\": {\"anchor\": \"x10\", \"domain\": [0.0, 1.0], \"matches\": \"y\", \"showticklabels\": false}, \"yaxis2\": {\"anchor\": \"x2\", \"domain\": [0.0, 1.0], \"matches\": \"y\", \"showticklabels\": false}, \"yaxis3\": {\"anchor\": \"x3\", \"domain\": [0.0, 1.0], \"matches\": \"y\", \"showticklabels\": false}, \"yaxis4\": {\"anchor\": \"x4\", \"domain\": [0.0, 1.0], \"matches\": \"y\", \"showticklabels\": false}, \"yaxis5\": {\"anchor\": \"x5\", \"domain\": [0.0, 1.0], \"matches\": \"y\", \"showticklabels\": false}, \"yaxis6\": {\"anchor\": \"x6\", \"domain\": [0.0, 1.0], \"matches\": \"y\", \"showticklabels\": false}, \"yaxis7\": {\"anchor\": \"x7\", \"domain\": [0.0, 1.0], \"matches\": \"y\", \"showticklabels\": false}, \"yaxis8\": {\"anchor\": \"x8\", \"domain\": [0.0, 1.0], \"matches\": \"y\", \"showticklabels\": false}, \"yaxis9\": {\"anchor\": \"x9\", \"domain\": [0.0, 1.0], \"matches\": \"y\", \"showticklabels\": false}},\n",
              "                        {\"responsive\": true}\n",
              "                    ).then(function(){\n",
              "                            \n",
              "var gd = document.getElementById('86d3cb61-4772-4ca8-8427-ad321998e5fe');\n",
              "var x = new MutationObserver(function (mutations, observer) {{\n",
              "        var display = window.getComputedStyle(gd).display;\n",
              "        if (!display || display === 'none') {{\n",
              "            console.log([gd, 'removed!']);\n",
              "            Plotly.purge(gd);\n",
              "            observer.disconnect();\n",
              "        }}\n",
              "}});\n",
              "\n",
              "// Listen for the removal of the full notebook cells\n",
              "var notebookContainer = gd.closest('#notebook-container');\n",
              "if (notebookContainer) {{\n",
              "    x.observe(notebookContainer, {childList: true});\n",
              "}}\n",
              "\n",
              "// Listen for the clearing of the current output cell\n",
              "var outputEl = gd.closest('.output');\n",
              "if (outputEl) {{\n",
              "    x.observe(outputEl, {childList: true});\n",
              "}}\n",
              "\n",
              "                        })\n",
              "                };\n",
              "                \n",
              "            </script>\n",
              "        </div>\n",
              "</body>\n",
              "</html>"
            ]
          },
          "metadata": {
            "tags": []
          }
        }
      ]
    },
    {
      "cell_type": "markdown",
      "metadata": {
        "id": "FsWx0B8DiAEz",
        "colab_type": "text"
      },
      "source": [
        "Import County Level Data for Hawaii"
      ]
    },
    {
      "cell_type": "code",
      "metadata": {
        "id": "WRSNLaNAiJ1i",
        "colab_type": "code",
        "colab": {
          "base_uri": "https://localhost:8080/",
          "height": 359
        },
        "outputId": "f83dcc68-a274-4610-e234-8ceaa98523a8"
      },
      "source": [
        "import pandas as pd\n",
        "df = pd.read_csv(\"https://raw.githubusercontent.com/nytimes/covid-19-data/master/us-counties.csv\")\n",
        "df[\"state\"].shape\n",
        "df = df[df[\"state\"] == \"Hawaii\"]\n",
        "df.tail(10)"
      ],
      "execution_count": 83,
      "outputs": [
        {
          "output_type": "execute_result",
          "data": {
            "text/html": [
              "<div>\n",
              "<style scoped>\n",
              "    .dataframe tbody tr th:only-of-type {\n",
              "        vertical-align: middle;\n",
              "    }\n",
              "\n",
              "    .dataframe tbody tr th {\n",
              "        vertical-align: top;\n",
              "    }\n",
              "\n",
              "    .dataframe thead th {\n",
              "        text-align: right;\n",
              "    }\n",
              "</style>\n",
              "<table border=\"1\" class=\"dataframe\">\n",
              "  <thead>\n",
              "    <tr style=\"text-align: right;\">\n",
              "      <th></th>\n",
              "      <th>date</th>\n",
              "      <th>county</th>\n",
              "      <th>state</th>\n",
              "      <th>fips</th>\n",
              "      <th>cases</th>\n",
              "      <th>deaths</th>\n",
              "    </tr>\n",
              "  </thead>\n",
              "  <tbody>\n",
              "    <tr>\n",
              "      <th>41227</th>\n",
              "      <td>2020-04-08</td>\n",
              "      <td>Hawaii</td>\n",
              "      <td>Hawaii</td>\n",
              "      <td>15001.0</td>\n",
              "      <td>26</td>\n",
              "      <td>0</td>\n",
              "    </tr>\n",
              "    <tr>\n",
              "      <th>41228</th>\n",
              "      <td>2020-04-08</td>\n",
              "      <td>Honolulu</td>\n",
              "      <td>Hawaii</td>\n",
              "      <td>15003.0</td>\n",
              "      <td>328</td>\n",
              "      <td>4</td>\n",
              "    </tr>\n",
              "    <tr>\n",
              "      <th>41229</th>\n",
              "      <td>2020-04-08</td>\n",
              "      <td>Kauai</td>\n",
              "      <td>Hawaii</td>\n",
              "      <td>15007.0</td>\n",
              "      <td>18</td>\n",
              "      <td>0</td>\n",
              "    </tr>\n",
              "    <tr>\n",
              "      <th>41230</th>\n",
              "      <td>2020-04-08</td>\n",
              "      <td>Maui</td>\n",
              "      <td>Hawaii</td>\n",
              "      <td>15009.0</td>\n",
              "      <td>54</td>\n",
              "      <td>1</td>\n",
              "    </tr>\n",
              "    <tr>\n",
              "      <th>41231</th>\n",
              "      <td>2020-04-08</td>\n",
              "      <td>Unknown</td>\n",
              "      <td>Hawaii</td>\n",
              "      <td>NaN</td>\n",
              "      <td>7</td>\n",
              "      <td>0</td>\n",
              "    </tr>\n",
              "    <tr>\n",
              "      <th>43793</th>\n",
              "      <td>2020-04-09</td>\n",
              "      <td>Hawaii</td>\n",
              "      <td>Hawaii</td>\n",
              "      <td>15001.0</td>\n",
              "      <td>28</td>\n",
              "      <td>0</td>\n",
              "    </tr>\n",
              "    <tr>\n",
              "      <th>43794</th>\n",
              "      <td>2020-04-09</td>\n",
              "      <td>Honolulu</td>\n",
              "      <td>Hawaii</td>\n",
              "      <td>15003.0</td>\n",
              "      <td>334</td>\n",
              "      <td>4</td>\n",
              "    </tr>\n",
              "    <tr>\n",
              "      <th>43795</th>\n",
              "      <td>2020-04-09</td>\n",
              "      <td>Kauai</td>\n",
              "      <td>Hawaii</td>\n",
              "      <td>15007.0</td>\n",
              "      <td>18</td>\n",
              "      <td>0</td>\n",
              "    </tr>\n",
              "    <tr>\n",
              "      <th>43796</th>\n",
              "      <td>2020-04-09</td>\n",
              "      <td>Maui</td>\n",
              "      <td>Hawaii</td>\n",
              "      <td>15009.0</td>\n",
              "      <td>57</td>\n",
              "      <td>2</td>\n",
              "    </tr>\n",
              "    <tr>\n",
              "      <th>43797</th>\n",
              "      <td>2020-04-09</td>\n",
              "      <td>Unknown</td>\n",
              "      <td>Hawaii</td>\n",
              "      <td>NaN</td>\n",
              "      <td>3</td>\n",
              "      <td>0</td>\n",
              "    </tr>\n",
              "  </tbody>\n",
              "</table>\n",
              "</div>"
            ],
            "text/plain": [
              "             date    county   state     fips  cases  deaths\n",
              "41227  2020-04-08    Hawaii  Hawaii  15001.0     26       0\n",
              "41228  2020-04-08  Honolulu  Hawaii  15003.0    328       4\n",
              "41229  2020-04-08     Kauai  Hawaii  15007.0     18       0\n",
              "41230  2020-04-08      Maui  Hawaii  15009.0     54       1\n",
              "41231  2020-04-08   Unknown  Hawaii      NaN      7       0\n",
              "43793  2020-04-09    Hawaii  Hawaii  15001.0     28       0\n",
              "43794  2020-04-09  Honolulu  Hawaii  15003.0    334       4\n",
              "43795  2020-04-09     Kauai  Hawaii  15007.0     18       0\n",
              "43796  2020-04-09      Maui  Hawaii  15009.0     57       2\n",
              "43797  2020-04-09   Unknown  Hawaii      NaN      3       0"
            ]
          },
          "metadata": {
            "tags": []
          },
          "execution_count": 83
        }
      ]
    },
    {
      "cell_type": "code",
      "metadata": {
        "id": "nsoHvLXFpqGC",
        "colab_type": "code",
        "colab": {
          "base_uri": "https://localhost:8080/",
          "height": 824
        },
        "outputId": "1a5c645a-7ac7-43ca-f4bd-0eed11f0b4ac"
      },
      "source": [
        "Maui_County_df = df[df[\"county\"]== \"Maui\"].drop(columns = \"fips\")\n",
        "Maui_County_df.tail(25)"
      ],
      "execution_count": 84,
      "outputs": [
        {
          "output_type": "execute_result",
          "data": {
            "text/html": [
              "<div>\n",
              "<style scoped>\n",
              "    .dataframe tbody tr th:only-of-type {\n",
              "        vertical-align: middle;\n",
              "    }\n",
              "\n",
              "    .dataframe tbody tr th {\n",
              "        vertical-align: top;\n",
              "    }\n",
              "\n",
              "    .dataframe thead th {\n",
              "        text-align: right;\n",
              "    }\n",
              "</style>\n",
              "<table border=\"1\" class=\"dataframe\">\n",
              "  <thead>\n",
              "    <tr style=\"text-align: right;\">\n",
              "      <th></th>\n",
              "      <th>date</th>\n",
              "      <th>county</th>\n",
              "      <th>state</th>\n",
              "      <th>cases</th>\n",
              "      <th>deaths</th>\n",
              "    </tr>\n",
              "  </thead>\n",
              "  <tbody>\n",
              "    <tr>\n",
              "      <th>2866</th>\n",
              "      <td>2020-03-16</td>\n",
              "      <td>Maui</td>\n",
              "      <td>Hawaii</td>\n",
              "      <td>2</td>\n",
              "      <td>0</td>\n",
              "    </tr>\n",
              "    <tr>\n",
              "      <th>3354</th>\n",
              "      <td>2020-03-17</td>\n",
              "      <td>Maui</td>\n",
              "      <td>Hawaii</td>\n",
              "      <td>3</td>\n",
              "      <td>0</td>\n",
              "    </tr>\n",
              "    <tr>\n",
              "      <th>3916</th>\n",
              "      <td>2020-03-18</td>\n",
              "      <td>Maui</td>\n",
              "      <td>Hawaii</td>\n",
              "      <td>3</td>\n",
              "      <td>0</td>\n",
              "    </tr>\n",
              "    <tr>\n",
              "      <th>4592</th>\n",
              "      <td>2020-03-19</td>\n",
              "      <td>Maui</td>\n",
              "      <td>Hawaii</td>\n",
              "      <td>5</td>\n",
              "      <td>0</td>\n",
              "    </tr>\n",
              "    <tr>\n",
              "      <th>5392</th>\n",
              "      <td>2020-03-20</td>\n",
              "      <td>Maui</td>\n",
              "      <td>Hawaii</td>\n",
              "      <td>5</td>\n",
              "      <td>0</td>\n",
              "    </tr>\n",
              "    <tr>\n",
              "      <th>6326</th>\n",
              "      <td>2020-03-21</td>\n",
              "      <td>Maui</td>\n",
              "      <td>Hawaii</td>\n",
              "      <td>7</td>\n",
              "      <td>0</td>\n",
              "    </tr>\n",
              "    <tr>\n",
              "      <th>7374</th>\n",
              "      <td>2020-03-22</td>\n",
              "      <td>Maui</td>\n",
              "      <td>Hawaii</td>\n",
              "      <td>9</td>\n",
              "      <td>0</td>\n",
              "    </tr>\n",
              "    <tr>\n",
              "      <th>8528</th>\n",
              "      <td>2020-03-23</td>\n",
              "      <td>Maui</td>\n",
              "      <td>Hawaii</td>\n",
              "      <td>11</td>\n",
              "      <td>0</td>\n",
              "    </tr>\n",
              "    <tr>\n",
              "      <th>9793</th>\n",
              "      <td>2020-03-24</td>\n",
              "      <td>Maui</td>\n",
              "      <td>Hawaii</td>\n",
              "      <td>11</td>\n",
              "      <td>0</td>\n",
              "    </tr>\n",
              "    <tr>\n",
              "      <th>11181</th>\n",
              "      <td>2020-03-25</td>\n",
              "      <td>Maui</td>\n",
              "      <td>Hawaii</td>\n",
              "      <td>13</td>\n",
              "      <td>0</td>\n",
              "    </tr>\n",
              "    <tr>\n",
              "      <th>12741</th>\n",
              "      <td>2020-03-26</td>\n",
              "      <td>Maui</td>\n",
              "      <td>Hawaii</td>\n",
              "      <td>14</td>\n",
              "      <td>0</td>\n",
              "    </tr>\n",
              "    <tr>\n",
              "      <th>14425</th>\n",
              "      <td>2020-03-27</td>\n",
              "      <td>Maui</td>\n",
              "      <td>Hawaii</td>\n",
              "      <td>16</td>\n",
              "      <td>0</td>\n",
              "    </tr>\n",
              "    <tr>\n",
              "      <th>16227</th>\n",
              "      <td>2020-03-28</td>\n",
              "      <td>Maui</td>\n",
              "      <td>Hawaii</td>\n",
              "      <td>16</td>\n",
              "      <td>0</td>\n",
              "    </tr>\n",
              "    <tr>\n",
              "      <th>18136</th>\n",
              "      <td>2020-03-29</td>\n",
              "      <td>Maui</td>\n",
              "      <td>Hawaii</td>\n",
              "      <td>20</td>\n",
              "      <td>0</td>\n",
              "    </tr>\n",
              "    <tr>\n",
              "      <th>20146</th>\n",
              "      <td>2020-03-30</td>\n",
              "      <td>Maui</td>\n",
              "      <td>Hawaii</td>\n",
              "      <td>25</td>\n",
              "      <td>0</td>\n",
              "    </tr>\n",
              "    <tr>\n",
              "      <th>22250</th>\n",
              "      <td>2020-03-31</td>\n",
              "      <td>Maui</td>\n",
              "      <td>Hawaii</td>\n",
              "      <td>25</td>\n",
              "      <td>0</td>\n",
              "    </tr>\n",
              "    <tr>\n",
              "      <th>24429</th>\n",
              "      <td>2020-04-01</td>\n",
              "      <td>Maui</td>\n",
              "      <td>Hawaii</td>\n",
              "      <td>26</td>\n",
              "      <td>0</td>\n",
              "    </tr>\n",
              "    <tr>\n",
              "      <th>26669</th>\n",
              "      <td>2020-04-02</td>\n",
              "      <td>Maui</td>\n",
              "      <td>Hawaii</td>\n",
              "      <td>27</td>\n",
              "      <td>0</td>\n",
              "    </tr>\n",
              "    <tr>\n",
              "      <th>28971</th>\n",
              "      <td>2020-04-03</td>\n",
              "      <td>Maui</td>\n",
              "      <td>Hawaii</td>\n",
              "      <td>36</td>\n",
              "      <td>0</td>\n",
              "    </tr>\n",
              "    <tr>\n",
              "      <th>31334</th>\n",
              "      <td>2020-04-04</td>\n",
              "      <td>Maui</td>\n",
              "      <td>Hawaii</td>\n",
              "      <td>38</td>\n",
              "      <td>0</td>\n",
              "    </tr>\n",
              "    <tr>\n",
              "      <th>33742</th>\n",
              "      <td>2020-04-05</td>\n",
              "      <td>Maui</td>\n",
              "      <td>Hawaii</td>\n",
              "      <td>43</td>\n",
              "      <td>0</td>\n",
              "    </tr>\n",
              "    <tr>\n",
              "      <th>36196</th>\n",
              "      <td>2020-04-06</td>\n",
              "      <td>Maui</td>\n",
              "      <td>Hawaii</td>\n",
              "      <td>44</td>\n",
              "      <td>1</td>\n",
              "    </tr>\n",
              "    <tr>\n",
              "      <th>38688</th>\n",
              "      <td>2020-04-07</td>\n",
              "      <td>Maui</td>\n",
              "      <td>Hawaii</td>\n",
              "      <td>48</td>\n",
              "      <td>1</td>\n",
              "    </tr>\n",
              "    <tr>\n",
              "      <th>41230</th>\n",
              "      <td>2020-04-08</td>\n",
              "      <td>Maui</td>\n",
              "      <td>Hawaii</td>\n",
              "      <td>54</td>\n",
              "      <td>1</td>\n",
              "    </tr>\n",
              "    <tr>\n",
              "      <th>43796</th>\n",
              "      <td>2020-04-09</td>\n",
              "      <td>Maui</td>\n",
              "      <td>Hawaii</td>\n",
              "      <td>57</td>\n",
              "      <td>2</td>\n",
              "    </tr>\n",
              "  </tbody>\n",
              "</table>\n",
              "</div>"
            ],
            "text/plain": [
              "             date county   state  cases  deaths\n",
              "2866   2020-03-16   Maui  Hawaii      2       0\n",
              "3354   2020-03-17   Maui  Hawaii      3       0\n",
              "3916   2020-03-18   Maui  Hawaii      3       0\n",
              "4592   2020-03-19   Maui  Hawaii      5       0\n",
              "5392   2020-03-20   Maui  Hawaii      5       0\n",
              "6326   2020-03-21   Maui  Hawaii      7       0\n",
              "7374   2020-03-22   Maui  Hawaii      9       0\n",
              "8528   2020-03-23   Maui  Hawaii     11       0\n",
              "9793   2020-03-24   Maui  Hawaii     11       0\n",
              "11181  2020-03-25   Maui  Hawaii     13       0\n",
              "12741  2020-03-26   Maui  Hawaii     14       0\n",
              "14425  2020-03-27   Maui  Hawaii     16       0\n",
              "16227  2020-03-28   Maui  Hawaii     16       0\n",
              "18136  2020-03-29   Maui  Hawaii     20       0\n",
              "20146  2020-03-30   Maui  Hawaii     25       0\n",
              "22250  2020-03-31   Maui  Hawaii     25       0\n",
              "24429  2020-04-01   Maui  Hawaii     26       0\n",
              "26669  2020-04-02   Maui  Hawaii     27       0\n",
              "28971  2020-04-03   Maui  Hawaii     36       0\n",
              "31334  2020-04-04   Maui  Hawaii     38       0\n",
              "33742  2020-04-05   Maui  Hawaii     43       0\n",
              "36196  2020-04-06   Maui  Hawaii     44       1\n",
              "38688  2020-04-07   Maui  Hawaii     48       1\n",
              "41230  2020-04-08   Maui  Hawaii     54       1\n",
              "43796  2020-04-09   Maui  Hawaii     57       2"
            ]
          },
          "metadata": {
            "tags": []
          },
          "execution_count": 84
        }
      ]
    },
    {
      "cell_type": "code",
      "metadata": {
        "colab_type": "code",
        "outputId": "07dc2c1b-5b6f-4bdc-fc0b-d46576ae3286",
        "id": "vyUhRWrns5MM",
        "colab": {
          "base_uri": "https://localhost:8080/",
          "height": 296
        }
      },
      "source": [
        "import seaborn as sns\n",
        "sns.scatterplot(x=\"cases\", y=\"deaths\", \n",
        "                hue=\"deaths\",size=\"deaths\", data=Maui_County_df)"
      ],
      "execution_count": 85,
      "outputs": [
        {
          "output_type": "execute_result",
          "data": {
            "text/plain": [
              "<matplotlib.axes._subplots.AxesSubplot at 0x7f9b9c7d7780>"
            ]
          },
          "metadata": {
            "tags": []
          },
          "execution_count": 85
        },
        {
          "output_type": "display_data",
          "data": {
            "image/png": "[encoded data removed]",
            "text/plain": [
              "<Figure size 432x288 with 1 Axes>"
            ]
          },
          "metadata": {
            "tags": [],
            "needs_background": "light"
          }
        }
      ]
    },
    {
      "cell_type": "code",
      "metadata": {
        "id": "SqY1GM4FqLsB",
        "colab_type": "code",
        "colab": {
          "base_uri": "https://localhost:8080/",
          "height": 422
        },
        "outputId": "c7e29769-fd68-40f5-c813-f12f1a8046da"
      },
      "source": [
        "import seaborn as sns\n",
        "import matplotlib.pyplot as plt\n",
        "\n",
        "plt.figure(figsize=(25,25))\n",
        "ax = sns.lmplot(x=\"cases\", y=\"deaths\",\n",
        "                    height=5.5,\n",
        "                    col=\"county\",\n",
        "                    col_wrap=5,\n",
        "                    hue=\"county\", \n",
        "                    palette=\"Set2\",\n",
        "                    data=Maui_County_df)\n",
        "ax.fig.subplots_adjust(wspace=.2)"
      ],
      "execution_count": 86,
      "outputs": [
        {
          "output_type": "display_data",
          "data": {
            "text/plain": [
              "<Figure size 1800x1800 with 0 Axes>"
            ]
          },
          "metadata": {
            "tags": []
          }
        },
        {
          "output_type": "display_data",
          "data": {
            "image/png": "[encoded data removed]",
            "text/plain": [
              "<Figure size 1980x396 with 1 Axes>"
            ]
          },
          "metadata": {
            "tags": [],
            "needs_background": "light"
          }
        }
      ]
    }
  ]
}